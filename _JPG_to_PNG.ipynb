{
  "nbformat": 4,
  "nbformat_minor": 0,
  "metadata": {
    "colab": {
      "name": ".JPG to .PNG",
      "provenance": [],
      "collapsed_sections": []
    },
    "kernelspec": {
      "display_name": "Python 3",
      "name": "python3"
    }
  },
  "cells": [
    {
      "cell_type": "code",
      "metadata": {
        "id": "expmbAlA1tbU"
      },
      "source": [
        "from PIL import Image\n",
        "from glob import glob\n",
        "import os\n",
        "myDir = '/content/drive/MyDrive/Multiclass2 Dataset/four_classes/train/covid'\n",
        "pic_list = glob(myDir + os.sep + '*' + '.jpg')\n",
        "\n",
        "for pic in pic_list:\n",
        "  #resize, use a string replace to name new bmps\n",
        "  img = Image.open(pic)\n",
        "  new_img = img.resize((224,224))\n",
        "  newName = pic.replace(\".jpg\",\".png\")\n",
        "  new_img.save(newName)"
      ],
      "execution_count": null,
      "outputs": []
    },
    {
      "cell_type": "code",
      "metadata": {
        "id": "eWWvoub7Zy6l"
      },
      "source": [
        "#importing os module\n",
        "import os\n",
        "#providing the path of the folder\n",
        "#r = raw string literal\n",
        "folder_path = (r'/content/drive/MyDrive/Multiclass2 Dataset/four_classes/train/covid')\n",
        "#using listdir() method to list the files of the folder\n",
        "test = os.listdir(folder_path)\n",
        "#taking a loop to remove all the images\n",
        "#using \".png\" extension to remove only png images\n",
        "#using os.remove() method to remove the files\n",
        "for images in test:\n",
        "    if images.endswith(\".jpg\"):\n",
        "        os.remove(os.path.join(folder_path, images))"
      ],
      "execution_count": null,
      "outputs": []
    },
    {
      "cell_type": "code",
      "metadata": {
        "id": "P_7Q4MCbbIuh"
      },
      "source": [
        ""
      ],
      "execution_count": null,
      "outputs": []
    }
  ]
}